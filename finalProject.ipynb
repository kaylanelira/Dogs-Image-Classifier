{
  "cells": [
    {
      "cell_type": "markdown",
      "metadata": {
        "colab_type": "text",
        "id": "view-in-github"
      },
      "source": [
        "<a href=\"https://colab.research.google.com/github/kaylanelira/Dogs-Image-Classifier/blob/main/finalProject.ipynb\" target=\"_parent\"><img src=\"https://colab.research.google.com/assets/colab-badge.svg\" alt=\"Open In Colab\"/></a>"
      ]
    },
    {
      "cell_type": "markdown",
      "metadata": {
        "id": "IxS_N6ClGfzz"
      },
      "source": [
        "# DOG CLASSIFIER"
      ]
    },
    {
      "cell_type": "markdown",
      "metadata": {
        "id": "4woPaWIAGkEh"
      },
      "source": [
        "To classify a dog, upload an image using the `upload` button. \n",
        "\n",
        "This model can diferenciate between:\n",
        "- chihuahuas\n",
        "- dachshunds\n",
        "- pitbulls"
      ]
    },
    {
      "cell_type": "code",
      "execution_count": 2,
      "metadata": {
        "colab": {
          "base_uri": "https://localhost:8080/"
        },
        "id": "2pnOSdY_ozQL",
        "outputId": "223400a5-5d5d-49bd-f42b-1449c9a632e8"
      },
      "outputs": [
        {
          "name": "stdout",
          "output_type": "stream",
          "text": [
            "\u001b[2K     \u001b[90m━━━━━━━━━━━━━━━━━━━━━━━━━━━━━━━━━━━━━━\u001b[0m \u001b[32m719.8/719.8 kB\u001b[0m \u001b[31m23.3 MB/s\u001b[0m eta \u001b[36m0:00:00\u001b[0m\n",
            "\u001b[2K     \u001b[90m━━━━━━━━━━━━━━━━━━━━━━━━━━━━━━━━━━━━━━\u001b[0m \u001b[32m468.7/468.7 kB\u001b[0m \u001b[31m30.4 MB/s\u001b[0m eta \u001b[36m0:00:00\u001b[0m\n",
            "\u001b[2K     \u001b[90m━━━━━━━━━━━━━━━━━━━━━━━━━━━━━━━━━━━━━━━━\u001b[0m \u001b[32m1.3/1.3 MB\u001b[0m \u001b[31m44.6 MB/s\u001b[0m eta \u001b[36m0:00:00\u001b[0m\n",
            "\u001b[2K     \u001b[90m━━━━━━━━━━━━━━━━━━━━━━━━━━━━━━━━━━━━━━━━\u001b[0m \u001b[32m7.0/7.0 MB\u001b[0m \u001b[31m66.8 MB/s\u001b[0m eta \u001b[36m0:00:00\u001b[0m\n",
            "\u001b[2K     \u001b[90m━━━━━━━━━━━━━━━━━━━━━━━━━━━━━━━━━━━━━━\u001b[0m \u001b[32m110.5/110.5 kB\u001b[0m \u001b[31m14.0 MB/s\u001b[0m eta \u001b[36m0:00:00\u001b[0m\n",
            "\u001b[2K     \u001b[90m━━━━━━━━━━━━━━━━━━━━━━━━━━━━━━━━━━━━━━\u001b[0m \u001b[32m224.2/224.2 kB\u001b[0m \u001b[31m21.4 MB/s\u001b[0m eta \u001b[36m0:00:00\u001b[0m\n",
            "\u001b[2K     \u001b[90m━━━━━━━━━━━━━━━━━━━━━━━━━━━━━━━━━━━━━━━━\u001b[0m \u001b[32m1.0/1.0 MB\u001b[0m \u001b[31m35.7 MB/s\u001b[0m eta \u001b[36m0:00:00\u001b[0m\n",
            "\u001b[2K     \u001b[90m━━━━━━━━━━━━━━━━━━━━━━━━━━━━━━━━━━━━━━\u001b[0m \u001b[32m132.9/132.9 kB\u001b[0m \u001b[31m14.6 MB/s\u001b[0m eta \u001b[36m0:00:00\u001b[0m\n",
            "\u001b[2K     \u001b[90m━━━━━━━━━━━━━━━━━━━━━━━━━━━━━━━━━━━━━━\u001b[0m \u001b[32m212.2/212.2 kB\u001b[0m \u001b[31m23.5 MB/s\u001b[0m eta \u001b[36m0:00:00\u001b[0m\n",
            "\u001b[2K     \u001b[90m━━━━━━━━━━━━━━━━━━━━━━━━━━━━━━━━━━━━━━━━\u001b[0m \u001b[32m7.8/7.8 MB\u001b[0m \u001b[31m84.4 MB/s\u001b[0m eta \u001b[36m0:00:00\u001b[0m\n",
            "\u001b[2K     \u001b[90m━━━━━━━━━━━━━━━━━━━━━━━━━━━━━━━━━━━━━━\u001b[0m \u001b[32m114.2/114.2 kB\u001b[0m \u001b[31m11.9 MB/s\u001b[0m eta \u001b[36m0:00:00\u001b[0m\n",
            "\u001b[2K     \u001b[90m━━━━━━━━━━━━━━━━━━━━━━━━━━━━━━━━━━━━━━\u001b[0m \u001b[32m158.8/158.8 kB\u001b[0m \u001b[31m13.6 MB/s\u001b[0m eta \u001b[36m0:00:00\u001b[0m\n",
            "\u001b[2K     \u001b[90m━━━━━━━━━━━━━━━━━━━━━━━━━━━━━━━━━━━━━━\u001b[0m \u001b[32m269.3/269.3 kB\u001b[0m \u001b[31m26.3 MB/s\u001b[0m eta \u001b[36m0:00:00\u001b[0m\n",
            "\u001b[2K     \u001b[90m━━━━━━━━━━━━━━━━━━━━━━━━━━━━━━━━━━━━━━━━\u001b[0m \u001b[32m1.6/1.6 MB\u001b[0m \u001b[31m66.2 MB/s\u001b[0m eta \u001b[36m0:00:00\u001b[0m\n",
            "\u001b[?25hMounted at /content/gdrive\n"
          ]
        }
      ],
      "source": [
        "! [ -e /content ] && pip install -Uqq fastbook\n",
        "import fastbook\n",
        "fastbook.setup_book()"
      ]
    },
    {
      "cell_type": "code",
      "execution_count": 3,
      "metadata": {
        "id": "NQClsyHIl6Az"
      },
      "outputs": [],
      "source": [
        "from fastbook import *\n",
        "from fastai.vision.widgets import *"
      ]
    },
    {
      "cell_type": "code",
      "execution_count": 4,
      "metadata": {
        "id": "1BOs_UxNl7TI"
      },
      "outputs": [],
      "source": [
        "# Downloading .pkl file from miniProject.ipynb\n",
        "path = Path()\n",
        "model = load_learner(path/'export.pkl')"
      ]
    },
    {
      "cell_type": "code",
      "execution_count": 23,
      "metadata": {
        "id": "x7gn6Xv8mOib"
      },
      "outputs": [],
      "source": [
        "# Widgets\n",
        "upload = widgets.FileUpload()\n",
        "output = widgets.Output()\n",
        "label = widgets.Label()"
      ]
    },
    {
      "cell_type": "code",
      "execution_count": 24,
      "metadata": {
        "id": "0zLhWCgOmRZv"
      },
      "outputs": [],
      "source": [
        "# Function to get the user's input and run it through the model\n",
        "def predicting(img_input):\n",
        "  # grabbing image and using output widget to display\n",
        "  image = PILImage.create(upload.data[-1])\n",
        "\n",
        "  output.clear_output()\n",
        "  with output:\n",
        "    display(image.to_thumb(128,128))\n",
        "  # using label to display predictions\n",
        "  label_pred, index_pred, prob = model.predict(image)\n",
        "\n",
        "  label.value = f\"Well, i'm {prob[index_pred]*100:.02f}% sure this is a {label_pred}! So cute!\"\n",
        "\n",
        "# Resets input field\n",
        "if(upload._counter != 0 ):\n",
        "  upload = widgets.FileUpload()\n",
        "\n",
        "upload.observe(predicting, names=['data'])"
      ]
    },
    {
      "cell_type": "code",
      "execution_count": 25,
      "metadata": {
        "id": "amXd5KEEYBZs"
      },
      "outputs": [],
      "source": [
        "btn_run = widgets.Button(description='Classify')"
      ]
    },
    {
      "cell_type": "code",
      "execution_count": 27,
      "metadata": {
        "colab": {
          "base_uri": "https://localhost:8080/",
          "height": 230,
          "referenced_widgets": [
            "4710836d30c54b949e3f846ef1e3fe14",
            "4a05af86a1f940aa9d329274e9a63921",
            "1e61716b3fc340b0a0e362d4c99f3156",
            "5266c1d5e5d346c694c938f81fc009e0",
            "8ee4acdd34b24bbb861ef141921d7cae",
            "8f0eed35425c4cd68bb6e871b02c5e2e",
            "d5b9fb252d1342df8a06b1bf724ce54d",
            "2a73b1b98bc54d15b9a2d2ddfbcc5efa",
            "09789e6653b944d288fcbdddbd55fbd6",
            "89bc66b8e75c4ff8aeed91f074b143c5",
            "2f1606b6721642ab9839f0a2d1e1cfeb",
            "2198aae9a0ad4701bc9f66af3ec0b010",
            "b9a2f3b1946f4691ac8fa6f4f9811026",
            "34fb2d925e584cffa227e116cd7a0caf",
            "e386203f344144e6bfe2372bf3fe926e",
            "7d182812689b4659868139cb2fe1d4e8"
          ]
        },
        "id": "1Sk79cDjnWfw",
        "outputId": "588b006a-b760-47d7-f278-9a38ebf129b5"
      },
      "outputs": [
        {
          "data": {
            "application/vnd.jupyter.widget-view+json": {
              "model_id": "4710836d30c54b949e3f846ef1e3fe14",
              "version_major": 2,
              "version_minor": 0
            },
            "text/plain": [
              "VBox(children=(Label(value='Upload here an image of a pitbull, chihuahua or dachshund:'), FileUpload(value={'t…"
            ]
          },
          "metadata": {},
          "output_type": "display_data"
        }
      ],
      "source": [
        "VBox([widgets.Label(\"Upload here an image of a pitbull, chihuahua or dachshund:\"), upload, btn_run, output, label])"
      ]
    }
  ],
  "metadata": {
    "colab": {
      "authorship_tag": "ABX9TyM48AnGnu4+pWBKhjUjyl1T",
      "include_colab_link": true,
      "provenance": []
    },
    "kernelspec": {
      "display_name": "Python 3",
      "name": "python3"
    },
    "language_info": {
      "name": "python"
    },
    "widgets": {
      "application/vnd.jupyter.widget-state+json": {
        "09789e6653b944d288fcbdddbd55fbd6": {
          "model_module": "@jupyter-widgets/controls",
          "model_module_version": "1.5.0",
          "model_name": "DescriptionStyleModel",
          "state": {
            "_model_module": "@jupyter-widgets/controls",
            "_model_module_version": "1.5.0",
            "_model_name": "DescriptionStyleModel",
            "_view_count": null,
            "_view_module": "@jupyter-widgets/base",
            "_view_module_version": "1.2.0",
            "_view_name": "StyleView",
            "description_width": ""
          }
        },
        "1e61716b3fc340b0a0e362d4c99f3156": {
          "model_module": "@jupyter-widgets/controls",
          "model_module_version": "1.5.0",
          "model_name": "FileUploadModel",
          "state": {
            "_counter": 1,
            "_dom_classes": [],
            "_model_module": "@jupyter-widgets/controls",
            "_model_module_version": "1.5.0",
            "_model_name": "FileUploadModel",
            "_view_count": null,
            "_view_module": "@jupyter-widgets/controls",
            "_view_module_version": "1.5.0",
            "_view_name": "FileUploadView",
            "accept": "",
            "button_style": "",
            "data": [
              null
            ],
            "description": "Upload",
            "description_tooltip": null,
            "disabled": false,
            "error": "",
            "icon": "upload",
            "layout": "IPY_MODEL_89bc66b8e75c4ff8aeed91f074b143c5",
            "metadata": [
              {
                "lastModified": 1682379471630,
                "name": "th (1).jpg",
                "size": 14932,
                "type": "image/jpeg"
              }
            ],
            "multiple": false,
            "style": "IPY_MODEL_2f1606b6721642ab9839f0a2d1e1cfeb"
          }
        },
        "2198aae9a0ad4701bc9f66af3ec0b010": {
          "model_module": "@jupyter-widgets/base",
          "model_module_version": "1.2.0",
          "model_name": "LayoutModel",
          "state": {
            "_model_module": "@jupyter-widgets/base",
            "_model_module_version": "1.2.0",
            "_model_name": "LayoutModel",
            "_view_count": null,
            "_view_module": "@jupyter-widgets/base",
            "_view_module_version": "1.2.0",
            "_view_name": "LayoutView",
            "align_content": null,
            "align_items": null,
            "align_self": null,
            "border": null,
            "bottom": null,
            "display": null,
            "flex": null,
            "flex_flow": null,
            "grid_area": null,
            "grid_auto_columns": null,
            "grid_auto_flow": null,
            "grid_auto_rows": null,
            "grid_column": null,
            "grid_gap": null,
            "grid_row": null,
            "grid_template_areas": null,
            "grid_template_columns": null,
            "grid_template_rows": null,
            "height": null,
            "justify_content": null,
            "justify_items": null,
            "left": null,
            "margin": null,
            "max_height": null,
            "max_width": null,
            "min_height": null,
            "min_width": null,
            "object_fit": null,
            "object_position": null,
            "order": null,
            "overflow": null,
            "overflow_x": null,
            "overflow_y": null,
            "padding": null,
            "right": null,
            "top": null,
            "visibility": null,
            "width": null
          }
        },
        "2a73b1b98bc54d15b9a2d2ddfbcc5efa": {
          "model_module": "@jupyter-widgets/base",
          "model_module_version": "1.2.0",
          "model_name": "LayoutModel",
          "state": {
            "_model_module": "@jupyter-widgets/base",
            "_model_module_version": "1.2.0",
            "_model_name": "LayoutModel",
            "_view_count": null,
            "_view_module": "@jupyter-widgets/base",
            "_view_module_version": "1.2.0",
            "_view_name": "LayoutView",
            "align_content": null,
            "align_items": null,
            "align_self": null,
            "border": null,
            "bottom": null,
            "display": null,
            "flex": null,
            "flex_flow": null,
            "grid_area": null,
            "grid_auto_columns": null,
            "grid_auto_flow": null,
            "grid_auto_rows": null,
            "grid_column": null,
            "grid_gap": null,
            "grid_row": null,
            "grid_template_areas": null,
            "grid_template_columns": null,
            "grid_template_rows": null,
            "height": null,
            "justify_content": null,
            "justify_items": null,
            "left": null,
            "margin": null,
            "max_height": null,
            "max_width": null,
            "min_height": null,
            "min_width": null,
            "object_fit": null,
            "object_position": null,
            "order": null,
            "overflow": null,
            "overflow_x": null,
            "overflow_y": null,
            "padding": null,
            "right": null,
            "top": null,
            "visibility": null,
            "width": null
          }
        },
        "2f1606b6721642ab9839f0a2d1e1cfeb": {
          "model_module": "@jupyter-widgets/controls",
          "model_module_version": "1.5.0",
          "model_name": "ButtonStyleModel",
          "state": {
            "_model_module": "@jupyter-widgets/controls",
            "_model_module_version": "1.5.0",
            "_model_name": "ButtonStyleModel",
            "_view_count": null,
            "_view_module": "@jupyter-widgets/base",
            "_view_module_version": "1.2.0",
            "_view_name": "StyleView",
            "button_color": null,
            "font_weight": ""
          }
        },
        "34fb2d925e584cffa227e116cd7a0caf": {
          "model_module": "@jupyter-widgets/base",
          "model_module_version": "1.2.0",
          "model_name": "LayoutModel",
          "state": {
            "_model_module": "@jupyter-widgets/base",
            "_model_module_version": "1.2.0",
            "_model_name": "LayoutModel",
            "_view_count": null,
            "_view_module": "@jupyter-widgets/base",
            "_view_module_version": "1.2.0",
            "_view_name": "LayoutView",
            "align_content": null,
            "align_items": null,
            "align_self": null,
            "border": null,
            "bottom": null,
            "display": null,
            "flex": null,
            "flex_flow": null,
            "grid_area": null,
            "grid_auto_columns": null,
            "grid_auto_flow": null,
            "grid_auto_rows": null,
            "grid_column": null,
            "grid_gap": null,
            "grid_row": null,
            "grid_template_areas": null,
            "grid_template_columns": null,
            "grid_template_rows": null,
            "height": null,
            "justify_content": null,
            "justify_items": null,
            "left": null,
            "margin": null,
            "max_height": null,
            "max_width": null,
            "min_height": null,
            "min_width": null,
            "object_fit": null,
            "object_position": null,
            "order": null,
            "overflow": null,
            "overflow_x": null,
            "overflow_y": null,
            "padding": null,
            "right": null,
            "top": null,
            "visibility": null,
            "width": null
          }
        },
        "4710836d30c54b949e3f846ef1e3fe14": {
          "model_module": "@jupyter-widgets/controls",
          "model_module_version": "1.5.0",
          "model_name": "VBoxModel",
          "state": {
            "_dom_classes": [],
            "_model_module": "@jupyter-widgets/controls",
            "_model_module_version": "1.5.0",
            "_model_name": "VBoxModel",
            "_view_count": null,
            "_view_module": "@jupyter-widgets/controls",
            "_view_module_version": "1.5.0",
            "_view_name": "VBoxView",
            "box_style": "",
            "children": [
              "IPY_MODEL_4a05af86a1f940aa9d329274e9a63921",
              "IPY_MODEL_1e61716b3fc340b0a0e362d4c99f3156",
              "IPY_MODEL_5266c1d5e5d346c694c938f81fc009e0",
              "IPY_MODEL_8ee4acdd34b24bbb861ef141921d7cae",
              "IPY_MODEL_8f0eed35425c4cd68bb6e871b02c5e2e"
            ],
            "layout": "IPY_MODEL_d5b9fb252d1342df8a06b1bf724ce54d"
          }
        },
        "4a05af86a1f940aa9d329274e9a63921": {
          "model_module": "@jupyter-widgets/controls",
          "model_module_version": "1.5.0",
          "model_name": "LabelModel",
          "state": {
            "_dom_classes": [],
            "_model_module": "@jupyter-widgets/controls",
            "_model_module_version": "1.5.0",
            "_model_name": "LabelModel",
            "_view_count": null,
            "_view_module": "@jupyter-widgets/controls",
            "_view_module_version": "1.5.0",
            "_view_name": "LabelView",
            "description": "",
            "description_tooltip": null,
            "layout": "IPY_MODEL_2a73b1b98bc54d15b9a2d2ddfbcc5efa",
            "placeholder": "​",
            "style": "IPY_MODEL_09789e6653b944d288fcbdddbd55fbd6",
            "value": "Upload here an image of a pitbull, chihuahua or dachshund:"
          }
        },
        "5266c1d5e5d346c694c938f81fc009e0": {
          "model_module": "@jupyter-widgets/controls",
          "model_module_version": "1.5.0",
          "model_name": "ButtonModel",
          "state": {
            "_dom_classes": [],
            "_model_module": "@jupyter-widgets/controls",
            "_model_module_version": "1.5.0",
            "_model_name": "ButtonModel",
            "_view_count": null,
            "_view_module": "@jupyter-widgets/controls",
            "_view_module_version": "1.5.0",
            "_view_name": "ButtonView",
            "button_style": "",
            "description": "Classify",
            "disabled": false,
            "icon": "",
            "layout": "IPY_MODEL_2198aae9a0ad4701bc9f66af3ec0b010",
            "style": "IPY_MODEL_b9a2f3b1946f4691ac8fa6f4f9811026",
            "tooltip": ""
          }
        },
        "7d182812689b4659868139cb2fe1d4e8": {
          "model_module": "@jupyter-widgets/base",
          "model_module_version": "1.2.0",
          "model_name": "LayoutModel",
          "state": {
            "_model_module": "@jupyter-widgets/base",
            "_model_module_version": "1.2.0",
            "_model_name": "LayoutModel",
            "_view_count": null,
            "_view_module": "@jupyter-widgets/base",
            "_view_module_version": "1.2.0",
            "_view_name": "LayoutView",
            "align_content": null,
            "align_items": null,
            "align_self": null,
            "border": null,
            "bottom": null,
            "display": null,
            "flex": null,
            "flex_flow": null,
            "grid_area": null,
            "grid_auto_columns": null,
            "grid_auto_flow": null,
            "grid_auto_rows": null,
            "grid_column": null,
            "grid_gap": null,
            "grid_row": null,
            "grid_template_areas": null,
            "grid_template_columns": null,
            "grid_template_rows": null,
            "height": null,
            "justify_content": null,
            "justify_items": null,
            "left": null,
            "margin": null,
            "max_height": null,
            "max_width": null,
            "min_height": null,
            "min_width": null,
            "object_fit": null,
            "object_position": null,
            "order": null,
            "overflow": null,
            "overflow_x": null,
            "overflow_y": null,
            "padding": null,
            "right": null,
            "top": null,
            "visibility": null,
            "width": null
          }
        },
        "89bc66b8e75c4ff8aeed91f074b143c5": {
          "model_module": "@jupyter-widgets/base",
          "model_module_version": "1.2.0",
          "model_name": "LayoutModel",
          "state": {
            "_model_module": "@jupyter-widgets/base",
            "_model_module_version": "1.2.0",
            "_model_name": "LayoutModel",
            "_view_count": null,
            "_view_module": "@jupyter-widgets/base",
            "_view_module_version": "1.2.0",
            "_view_name": "LayoutView",
            "align_content": null,
            "align_items": null,
            "align_self": null,
            "border": null,
            "bottom": null,
            "display": null,
            "flex": null,
            "flex_flow": null,
            "grid_area": null,
            "grid_auto_columns": null,
            "grid_auto_flow": null,
            "grid_auto_rows": null,
            "grid_column": null,
            "grid_gap": null,
            "grid_row": null,
            "grid_template_areas": null,
            "grid_template_columns": null,
            "grid_template_rows": null,
            "height": null,
            "justify_content": null,
            "justify_items": null,
            "left": null,
            "margin": null,
            "max_height": null,
            "max_width": null,
            "min_height": null,
            "min_width": null,
            "object_fit": null,
            "object_position": null,
            "order": null,
            "overflow": null,
            "overflow_x": null,
            "overflow_y": null,
            "padding": null,
            "right": null,
            "top": null,
            "visibility": null,
            "width": null
          }
        },
        "8ee4acdd34b24bbb861ef141921d7cae": {
          "model_module": "@jupyter-widgets/output",
          "model_module_version": "1.0.0",
          "model_name": "OutputModel",
          "state": {
            "_dom_classes": [],
            "_model_module": "@jupyter-widgets/output",
            "_model_module_version": "1.0.0",
            "_model_name": "OutputModel",
            "_view_count": null,
            "_view_module": "@jupyter-widgets/output",
            "_view_module_version": "1.0.0",
            "_view_name": "OutputView",
            "layout": "IPY_MODEL_7d182812689b4659868139cb2fe1d4e8",
            "msg_id": "",
            "outputs": [
              {
                "data": {
                  "image/png": "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\n",
                  "text/plain": "<PIL.Image.Image image mode=RGB size=128x85>"
                },
                "metadata": {},
                "output_type": "display_data"
              }
            ]
          }
        },
        "8f0eed35425c4cd68bb6e871b02c5e2e": {
          "model_module": "@jupyter-widgets/controls",
          "model_module_version": "1.5.0",
          "model_name": "LabelModel",
          "state": {
            "_dom_classes": [],
            "_model_module": "@jupyter-widgets/controls",
            "_model_module_version": "1.5.0",
            "_model_name": "LabelModel",
            "_view_count": null,
            "_view_module": "@jupyter-widgets/controls",
            "_view_module_version": "1.5.0",
            "_view_name": "LabelView",
            "description": "",
            "description_tooltip": null,
            "layout": "IPY_MODEL_34fb2d925e584cffa227e116cd7a0caf",
            "placeholder": "​",
            "style": "IPY_MODEL_e386203f344144e6bfe2372bf3fe926e",
            "value": "Well, i'm 100.00% sure this is a pitbull! So cute!"
          }
        },
        "b9a2f3b1946f4691ac8fa6f4f9811026": {
          "model_module": "@jupyter-widgets/controls",
          "model_module_version": "1.5.0",
          "model_name": "ButtonStyleModel",
          "state": {
            "_model_module": "@jupyter-widgets/controls",
            "_model_module_version": "1.5.0",
            "_model_name": "ButtonStyleModel",
            "_view_count": null,
            "_view_module": "@jupyter-widgets/base",
            "_view_module_version": "1.2.0",
            "_view_name": "StyleView",
            "button_color": null,
            "font_weight": ""
          }
        },
        "d5b9fb252d1342df8a06b1bf724ce54d": {
          "model_module": "@jupyter-widgets/base",
          "model_module_version": "1.2.0",
          "model_name": "LayoutModel",
          "state": {
            "_model_module": "@jupyter-widgets/base",
            "_model_module_version": "1.2.0",
            "_model_name": "LayoutModel",
            "_view_count": null,
            "_view_module": "@jupyter-widgets/base",
            "_view_module_version": "1.2.0",
            "_view_name": "LayoutView",
            "align_content": null,
            "align_items": null,
            "align_self": null,
            "border": null,
            "bottom": null,
            "display": null,
            "flex": null,
            "flex_flow": null,
            "grid_area": null,
            "grid_auto_columns": null,
            "grid_auto_flow": null,
            "grid_auto_rows": null,
            "grid_column": null,
            "grid_gap": null,
            "grid_row": null,
            "grid_template_areas": null,
            "grid_template_columns": null,
            "grid_template_rows": null,
            "height": null,
            "justify_content": null,
            "justify_items": null,
            "left": null,
            "margin": null,
            "max_height": null,
            "max_width": null,
            "min_height": null,
            "min_width": null,
            "object_fit": null,
            "object_position": null,
            "order": null,
            "overflow": null,
            "overflow_x": null,
            "overflow_y": null,
            "padding": null,
            "right": null,
            "top": null,
            "visibility": null,
            "width": null
          }
        },
        "e386203f344144e6bfe2372bf3fe926e": {
          "model_module": "@jupyter-widgets/controls",
          "model_module_version": "1.5.0",
          "model_name": "DescriptionStyleModel",
          "state": {
            "_model_module": "@jupyter-widgets/controls",
            "_model_module_version": "1.5.0",
            "_model_name": "DescriptionStyleModel",
            "_view_count": null,
            "_view_module": "@jupyter-widgets/base",
            "_view_module_version": "1.2.0",
            "_view_name": "StyleView",
            "description_width": ""
          }
        }
      }
    }
  },
  "nbformat": 4,
  "nbformat_minor": 0
}
