{
  "nbformat": 4,
  "nbformat_minor": 0,
  "metadata": {
    "colab": {
      "provenance": [],
      "authorship_tag": "ABX9TyNP5ITNnRi+Jgc1IP31nBhE",
      "include_colab_link": true
    },
    "kernelspec": {
      "name": "python3",
      "display_name": "Python 3"
    },
    "language_info": {
      "name": "python"
    }
  },
  "cells": [
    {
      "cell_type": "markdown",
      "metadata": {
        "id": "view-in-github",
        "colab_type": "text"
      },
      "source": [
        "<a href=\"https://colab.research.google.com/github/kaylanelira/Dogs-Image-Classifier/blob/box/finalProject.ipynb\" target=\"_parent\"><img src=\"https://colab.research.google.com/assets/colab-badge.svg\" alt=\"Open In Colab\"/></a>"
      ]
    },
    {
      "cell_type": "markdown",
      "source": [
        "# DOG CLASSIFIER"
      ],
      "metadata": {
        "id": "IxS_N6ClGfzz"
      }
    },
    {
      "cell_type": "markdown",
      "source": [
        "To classify a dog, upload an image using the `upload` button. \n",
        "\n",
        "This model can diferenciate between:\n",
        "- chihuahuas\n",
        "- dachshunds\n",
        "- pitbulls"
      ],
      "metadata": {
        "id": "4woPaWIAGkEh"
      }
    },
    {
      "cell_type": "code",
      "execution_count": null,
      "metadata": {
        "id": "IwjslTb4l2GE"
      },
      "outputs": [],
      "source": [
        "! [ -e /content ] && pip install -Uqq fastbook\n",
        "import fastbook\n",
        "fastbook.setup_book()"
      ]
    },
    {
      "cell_type": "code",
      "source": [
        "from fastbook import *\n",
        "from fastai.vision.widgets import *"
      ],
      "metadata": {
        "id": "NQClsyHIl6Az"
      },
      "execution_count": null,
      "outputs": []
    },
    {
      "cell_type": "code",
      "source": [
        "!pip install voila\n",
        "!jupyter serverextension enable voila --sys-prefix"
      ],
      "metadata": {
        "id": "HL4Y1xfSNTki"
      },
      "execution_count": null,
      "outputs": []
    },
    {
      "cell_type": "code",
      "source": [
        "# Downloading .pkl file from miniProject.ipynb\n",
        "path = Path()\n",
        "model = load_learner(path/'export.pkl')"
      ],
      "metadata": {
        "id": "1BOs_UxNl7TI"
      },
      "execution_count": null,
      "outputs": []
    },
    {
      "cell_type": "code",
      "source": [
        "# Widgets\n",
        "upload_btn = widgets.FileUpload()\n",
        "output = widgets.Output()\n",
        "label = widgets.Label()\n",
        "button = widgets.Button(description='Classify')"
      ],
      "metadata": {
        "id": "x7gn6Xv8mOib"
      },
      "execution_count": null,
      "outputs": []
    },
    {
      "cell_type": "code",
      "source": [
        "# Function to get the user's input and run it through the model\n",
        "def predicting(img_input):\n",
        "  image_bytes = btn_upload.value[0][\"content\"]\n",
        "  img = Image.open(io.BytesIO(image_bytes))\n",
        "  # image = PILImage.create(upload_btn.data[-1])\n",
        "  output.clear_output()\n",
        "  with output:\n",
        "    display(image.to_thumb(128,128))\n",
        "\n",
        "  label_pred, index_pred, prob = model.predict(image)\n",
        "\n",
        "  label.value = f\"Well, i'm {prob[index_pred]*100:.02f}% sure this is a {label_pred}! So cute!\"\n",
        "\n",
        "# Resets input field\n",
        "if(upload_btn._counter != 0 ):\n",
        "  upload_btn = widgets.FileUpload()"
      ],
      "metadata": {
        "id": "0zLhWCgOmRZv"
      },
      "execution_count": null,
      "outputs": []
    },
    {
      "cell_type": "code",
      "source": [
        "upload_btn.observe(predicting, names=['data'])\n",
        "\n",
        "display(VBox([widgets.Label('Upload an Image.'), upload_btn, output, label]))"
      ],
      "metadata": {
        "id": "1Sk79cDjnWfw"
      },
      "execution_count": null,
      "outputs": []
    },
    {
      "cell_type": "code",
      "source": [
        "button = widgets.Button(description='Classify')\n",
        "button.on_click(predicting)"
      ],
      "metadata": {
        "id": "AvlVDMed0HgU"
      },
      "execution_count": null,
      "outputs": []
    }
  ]
}